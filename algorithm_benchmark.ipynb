{
 "cells": [
  {
   "cell_type": "code",
   "execution_count": 1,
   "metadata": {},
   "outputs": [],
   "source": [
    "import numpy as np"
   ]
  },
  {
   "cell_type": "code",
   "execution_count": 2,
   "metadata": {},
   "outputs": [],
   "source": [
    "from time import time\n",
    "from tqdm.notebook import tqdm\n",
    "\n",
    "def distortion(result, x_data):\n",
    "    \"\"\"\n",
    "    Calculate the distortion of a result.\n",
    "    \"\"\"\n",
    "    centroids = np.array([np.mean(x_data[result[k]], axis=0) for k in range(len(result))])\n",
    "    # compute distortiona\n",
    "    distortion = 0\n",
    "    for k in range(len(result)):\n",
    "        distortion += np.sum(np.linalg.norm(x_data[result[k]] - centroids[k], axis=1, ord=2)**2)\n",
    "    return distortion\n",
    "\n",
    "def evaluate_algo(algo, dataset, n_runs=50):\n",
    "    timepoints = []\n",
    "    results = []\n",
    "\n",
    "    timepoints.append(time())\n",
    "    for _ in tqdm(range(n_runs)):\n",
    "        result = algo.fit(dataset.x_data)\n",
    "        results.append(result)\n",
    "        timepoints.append(time())\n",
    "\n",
    "    distortions = np.array([distortion(result, dataset.x_data) for result in results])\n",
    "    timepoints = np.array(timepoints)\n",
    "    time_since_start = timepoints[1:] - timepoints[0]\n",
    "    best_result_so_far = np.minimum.accumulate(distortions)\n",
    "\n",
    "    return distortions, time_since_start, best_result_so_far\n"
   ]
  },
  {
   "cell_type": "code",
   "execution_count": 3,
   "metadata": {},
   "outputs": [],
   "source": [
    "from algorithms.other_algos import *\n",
    "from datasets.cv_datasets import *"
   ]
  },
  {
   "cell_type": "code",
   "execution_count": 4,
   "metadata": {},
   "outputs": [
    {
     "name": "stdout",
     "output_type": "stream",
     "text": [
      "Loading MNIST dataset...\n",
      "Data shape : (70000, 784)\n",
      "Target shape : (70000,)\n",
      "MNIST dataset loaded.\n"
     ]
    }
   ],
   "source": [
    "ds = MNISTDataset({})\n",
    "\n",
    "ds.x_data = ds.x_data.astype(np.float32)"
   ]
  },
  {
   "cell_type": "code",
   "execution_count": 5,
   "metadata": {},
   "outputs": [],
   "source": [
    "config_algo = {\n",
    "    \"k\": 10\n",
    "}\n",
    "\n",
    "algos = [KMeansPlusPlusAlgorithm(config_algo), KKZ_Algorithm(config_algo), PCA_GuidedSearchAlgorithm(config_algo)]"
   ]
  },
  {
   "cell_type": "code",
   "execution_count": 6,
   "metadata": {},
   "outputs": [
    {
     "data": {
      "application/vnd.jupyter.widget-view+json": {
       "model_id": "d32bde417e0f4b9a86e4e66f1fd03667",
       "version_major": 2,
       "version_minor": 0
      },
      "text/plain": [
       "  0%|          | 0/1 [00:00<?, ?it/s]"
      ]
     },
     "metadata": {},
     "output_type": "display_data"
    },
    {
     "name": "stdout",
     "output_type": "stream",
     "text": [
      "Average distortion: 178432577024.0\n",
      "Average time: 9.015884160995483\n",
      "Average best result so far: 178432577024.0\n",
      "\n"
     ]
    },
    {
     "data": {
      "application/vnd.jupyter.widget-view+json": {
       "model_id": "ada7fb51d91b4a6ebbca85ebf3350fc0",
       "version_major": 2,
       "version_minor": 0
      },
      "text/plain": [
       "  0%|          | 0/1 [00:00<?, ?it/s]"
      ]
     },
     "metadata": {},
     "output_type": "display_data"
    },
    {
     "name": "stdout",
     "output_type": "stream",
     "text": [
      "Average distortion: 210566150720.0\n",
      "Average time: 2.80046010017395\n",
      "Average best result so far: 210566150720.0\n",
      "\n"
     ]
    },
    {
     "data": {
      "application/vnd.jupyter.widget-view+json": {
       "model_id": "695d88476142482a9aba5dc95057c597",
       "version_major": 2,
       "version_minor": 0
      },
      "text/plain": [
       "  0%|          | 0/1 [00:00<?, ?it/s]"
      ]
     },
     "metadata": {},
     "output_type": "display_data"
    },
    {
     "name": "stdout",
     "output_type": "stream",
     "text": [
      "Average distortion: 178483519488.0\n",
      "Average time: 8.452669620513916\n",
      "Average best result so far: 178483519488.0\n",
      "\n"
     ]
    }
   ],
   "source": [
    "\n",
    "for algo in algos:\n",
    "    distortions, time_since_start, best_result_so_far = evaluate_algo(algo, ds, n_runs=1)\n",
    "    print(\"Average distortion:\", np.mean(distortions))\n",
    "    print(\"Average time:\", np.mean(time_since_start))\n",
    "    print(\"Average best result so far:\", np.mean(best_result_so_far))\n",
    "    print(\"\")"
   ]
  }
 ],
 "metadata": {
  "kernelspec": {
   "display_name": "Python 3",
   "language": "python",
   "name": "python3"
  },
  "language_info": {
   "codemirror_mode": {
    "name": "ipython",
    "version": 3
   },
   "file_extension": ".py",
   "mimetype": "text/x-python",
   "name": "python",
   "nbconvert_exporter": "python",
   "pygments_lexer": "ipython3",
   "version": "3.10.5"
  }
 },
 "nbformat": 4,
 "nbformat_minor": 2
}
