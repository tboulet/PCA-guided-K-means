{
 "cells": [
  {
   "cell_type": "code",
   "execution_count": 1,
   "metadata": {},
   "outputs": [],
   "source": [
    "import numpy as np"
   ]
  },
  {
   "cell_type": "code",
   "execution_count": 65,
   "metadata": {},
   "outputs": [],
   "source": [
    "from time import time\n",
    "from tqdm.notebook import tqdm\n",
    "\n",
    "def distortion(result, x_data):\n",
    "    \"\"\"\n",
    "    Calculate the distortion of a result.\n",
    "    \"\"\"\n",
    "    centroids = np.array([np.mean(x_data[result[k]], axis=0) for k in range(len(result))])\n",
    "    # compute distortiona\n",
    "    distortion = 0\n",
    "    for k in range(len(result)):\n",
    "        distortion += np.sum(np.linalg.norm(x_data[result[k]] - centroids[k], axis=1, ord=2)**2)\n",
    "    return distortion\n",
    "\n",
    "def evaluate_algo(algo, dataset, n_runs=50):\n",
    "    timepoints = []\n",
    "    results = []\n",
    "\n",
    "    timepoints.append(time())\n",
    "    for _ in tqdm(range(n_runs)):\n",
    "        result = algo.fit(dataset.x_data)\n",
    "        results.append(result)\n",
    "        timepoints.append(time())\n",
    "\n",
    "    distortions = np.array([distortion(result, dataset.x_data) for result in results])\n",
    "    timepoints = np.array(timepoints)\n",
    "    time_since_start = timepoints[1:] - timepoints[0]\n",
    "    best_result_so_far = np.minimum.accumulate(distortions)\n",
    "\n",
    "    return distortions, time_since_start, best_result_so_far\n"
   ]
  },
  {
   "cell_type": "code",
   "execution_count": 66,
   "metadata": {},
   "outputs": [],
   "source": [
    "from algorithms.other_algos import *\n",
    "from datasets.cv_datasets import *"
   ]
  },
  {
   "cell_type": "code",
   "execution_count": 67,
   "metadata": {},
   "outputs": [
    {
     "name": "stdout",
     "output_type": "stream",
     "text": [
      "Loading MNIST dataset...\n",
      "Data shape : (70000, 784)\n",
      "Target shape : (70000,)\n",
      "MNIST dataset loaded.\n"
     ]
    }
   ],
   "source": [
    "ds = MNISTDataset({})"
   ]
  },
  {
   "cell_type": "code",
   "execution_count": 73,
   "metadata": {},
   "outputs": [],
   "source": [
    "config_algo = {\n",
    "    \"k\": 10\n",
    "}\n",
    "\n",
    "algos = [KMeansPlusPlusAlgorithm(config_algo), KKZ_Algorithm(config_algo), PCA_GuidedSearchAlgorithm(config_algo)]"
   ]
  },
  {
   "cell_type": "code",
   "execution_count": 74,
   "metadata": {},
   "outputs": [
    {
     "data": {
      "application/vnd.jupyter.widget-view+json": {
       "model_id": "51fed8a00eba45eb918f9477282acee5",
       "version_major": 2,
       "version_minor": 0
      },
      "text/plain": [
       "  0%|          | 0/1 [00:00<?, ?it/s]"
      ]
     },
     "metadata": {},
     "output_type": "display_data"
    },
    {
     "name": "stdout",
     "output_type": "stream",
     "text": [
      "Average distortion: 178464510987.605\n",
      "Average time: 9.49004340171814\n",
      "Average best result so far: 178464510987.605\n",
      "\n"
     ]
    },
    {
     "data": {
      "application/vnd.jupyter.widget-view+json": {
       "model_id": "f9c2299d7c5e46cc9e30310244cdde69",
       "version_major": 2,
       "version_minor": 0
      },
      "text/plain": [
       "  0%|          | 0/1 [00:00<?, ?it/s]"
      ]
     },
     "metadata": {},
     "output_type": "display_data"
    },
    {
     "ename": "MemoryError",
     "evalue": "Unable to allocate 2.04 GiB for an array with shape (5, 70000, 784) and data type float64",
     "output_type": "error",
     "traceback": [
      "\u001b[1;31m---------------------------------------------------------------------------\u001b[0m",
      "\u001b[1;31mMemoryError\u001b[0m                               Traceback (most recent call last)",
      "Cell \u001b[1;32mIn [74], line 2\u001b[0m\n\u001b[0;32m      1\u001b[0m \u001b[38;5;28;01mfor\u001b[39;00m algo \u001b[38;5;129;01min\u001b[39;00m algos:\n\u001b[1;32m----> 2\u001b[0m     distortions, time_since_start, best_result_so_far \u001b[38;5;241m=\u001b[39m \u001b[43mevaluate_algo\u001b[49m\u001b[43m(\u001b[49m\u001b[43malgo\u001b[49m\u001b[43m,\u001b[49m\u001b[43m \u001b[49m\u001b[43mds\u001b[49m\u001b[43m,\u001b[49m\u001b[43m \u001b[49m\u001b[43mn_runs\u001b[49m\u001b[38;5;241;43m=\u001b[39;49m\u001b[38;5;241;43m1\u001b[39;49m\u001b[43m)\u001b[49m\n\u001b[0;32m      3\u001b[0m     \u001b[38;5;28mprint\u001b[39m(\u001b[38;5;124m\"\u001b[39m\u001b[38;5;124mAverage distortion:\u001b[39m\u001b[38;5;124m\"\u001b[39m, np\u001b[38;5;241m.\u001b[39mmean(distortions))\n\u001b[0;32m      4\u001b[0m     \u001b[38;5;28mprint\u001b[39m(\u001b[38;5;124m\"\u001b[39m\u001b[38;5;124mAverage time:\u001b[39m\u001b[38;5;124m\"\u001b[39m, np\u001b[38;5;241m.\u001b[39mmean(time_since_start))\n",
      "Cell \u001b[1;32mIn [65], line 21\u001b[0m, in \u001b[0;36mevaluate_algo\u001b[1;34m(algo, dataset, n_runs)\u001b[0m\n\u001b[0;32m     19\u001b[0m timepoints\u001b[38;5;241m.\u001b[39mappend(time())\n\u001b[0;32m     20\u001b[0m \u001b[38;5;28;01mfor\u001b[39;00m _ \u001b[38;5;129;01min\u001b[39;00m tqdm(\u001b[38;5;28mrange\u001b[39m(n_runs)):\n\u001b[1;32m---> 21\u001b[0m     result \u001b[38;5;241m=\u001b[39m \u001b[43malgo\u001b[49m\u001b[38;5;241;43m.\u001b[39;49m\u001b[43mfit\u001b[49m\u001b[43m(\u001b[49m\u001b[43mdataset\u001b[49m\u001b[38;5;241;43m.\u001b[39;49m\u001b[43mx_data\u001b[49m\u001b[43m)\u001b[49m\n\u001b[0;32m     22\u001b[0m     results\u001b[38;5;241m.\u001b[39mappend(result)\n\u001b[0;32m     23\u001b[0m     timepoints\u001b[38;5;241m.\u001b[39mappend(time())\n",
      "File \u001b[1;32mc:\\Users\\Thomas\\Documents\\Cours\\S3-MVA\\Geometric data analysis\\PCA-guided-K-means\\algorithms\\other_algos.py:51\u001b[0m, in \u001b[0;36mfit\u001b[1;34m(self, x_data)\u001b[0m\n\u001b[0;32m     49\u001b[0m distances \u001b[38;5;241m=\u001b[39m np\u001b[38;5;241m.\u001b[39mlinalg\u001b[38;5;241m.\u001b[39mnorm(x_data \u001b[38;5;241m-\u001b[39m x_data[centroids][:, np\u001b[38;5;241m.\u001b[39mnewaxis], axis\u001b[38;5;241m=\u001b[39m\u001b[38;5;241m2\u001b[39m)\n\u001b[0;32m     50\u001b[0m \u001b[38;5;66;03m# compute the minimal distance between each point and the centroids\u001b[39;00m\n\u001b[1;32m---> 51\u001b[0m min_distances \u001b[38;5;241m=\u001b[39m np\u001b[38;5;241m.\u001b[39mmin(distances, axis\u001b[38;5;241m=\u001b[39m\u001b[38;5;241m1\u001b[39m)\n\u001b[0;32m     52\u001b[0m \u001b[38;5;66;03m# compute the argmax of the minimal distances\u001b[39;00m\n\u001b[0;32m     53\u001b[0m centroids\u001b[38;5;241m.\u001b[39mappend(np\u001b[38;5;241m.\u001b[39margmax(min_distances))\n",
      "File \u001b[1;32m<__array_function__ internals>:200\u001b[0m, in \u001b[0;36mnorm\u001b[1;34m(*args, **kwargs)\u001b[0m\n",
      "File \u001b[1;32mc:\\Users\\Thomas\\AppData\\Local\\Programs\\Python\\Python310\\lib\\site-packages\\numpy\\linalg\\linalg.py:2541\u001b[0m, in \u001b[0;36mnorm\u001b[1;34m(x, ord, axis, keepdims)\u001b[0m\n\u001b[0;32m   2538\u001b[0m     \u001b[38;5;28;01mreturn\u001b[39;00m add\u001b[38;5;241m.\u001b[39mreduce(\u001b[38;5;28mabs\u001b[39m(x), axis\u001b[38;5;241m=\u001b[39maxis, keepdims\u001b[38;5;241m=\u001b[39mkeepdims)\n\u001b[0;32m   2539\u001b[0m \u001b[38;5;28;01melif\u001b[39;00m \u001b[38;5;28mord\u001b[39m \u001b[38;5;129;01mis\u001b[39;00m \u001b[38;5;28;01mNone\u001b[39;00m \u001b[38;5;129;01mor\u001b[39;00m \u001b[38;5;28mord\u001b[39m \u001b[38;5;241m==\u001b[39m \u001b[38;5;241m2\u001b[39m:\n\u001b[0;32m   2540\u001b[0m     \u001b[38;5;66;03m# special case for speedup\u001b[39;00m\n\u001b[1;32m-> 2541\u001b[0m     s \u001b[38;5;241m=\u001b[39m (\u001b[43mx\u001b[49m\u001b[38;5;241;43m.\u001b[39;49m\u001b[43mconj\u001b[49m\u001b[43m(\u001b[49m\u001b[43m)\u001b[49m\u001b[43m \u001b[49m\u001b[38;5;241;43m*\u001b[39;49m\u001b[43m \u001b[49m\u001b[43mx\u001b[49m)\u001b[38;5;241m.\u001b[39mreal\n\u001b[0;32m   2542\u001b[0m     \u001b[38;5;28;01mreturn\u001b[39;00m sqrt(add\u001b[38;5;241m.\u001b[39mreduce(s, axis\u001b[38;5;241m=\u001b[39maxis, keepdims\u001b[38;5;241m=\u001b[39mkeepdims))\n\u001b[0;32m   2543\u001b[0m \u001b[38;5;66;03m# None of the str-type keywords for ord ('fro', 'nuc')\u001b[39;00m\n\u001b[0;32m   2544\u001b[0m \u001b[38;5;66;03m# are valid for vectors\u001b[39;00m\n",
      "\u001b[1;31mMemoryError\u001b[0m: Unable to allocate 2.04 GiB for an array with shape (5, 70000, 784) and data type float64"
     ]
    }
   ],
   "source": [
    "\n",
    "for algo in algos:\n",
    "    distortions, time_since_start, best_result_so_far = evaluate_algo(algo, ds, n_runs=1)\n",
    "    print(\"Average distortion:\", np.mean(distortions))\n",
    "    print(\"Average time:\", np.mean(time_since_start))\n",
    "    print(\"Average best result so far:\", np.mean(best_result_so_far))\n",
    "    print(\"\")"
   ]
  }
 ],
 "metadata": {
  "kernelspec": {
   "display_name": "Python 3",
   "language": "python",
   "name": "python3"
  },
  "language_info": {
   "codemirror_mode": {
    "name": "ipython",
    "version": 3
   },
   "file_extension": ".py",
   "mimetype": "text/x-python",
   "name": "python",
   "nbconvert_exporter": "python",
   "pygments_lexer": "ipython3",
   "version": "3.10.5"
  }
 },
 "nbformat": 4,
 "nbformat_minor": 2
}
